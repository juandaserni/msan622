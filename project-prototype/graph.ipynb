{
 "metadata": {
  "name": "",
  "signature": "sha256:7fd9fcdab925ee27c3b1fecfea16b8f0e2f0f99066c901bbaf2f2d5954260079"
 },
 "nbformat": 3,
 "nbformat_minor": 0,
 "worksheets": [
  {
   "cells": [
    {
     "cell_type": "code",
     "collapsed": false,
     "input": [
      "import pandas as pd\n",
      "import networkx as nx\n",
      "from networkx.readwrite import json_graph\n",
      "from itertools import combinations_with_replacement\n",
      "d = pd.read_csv('redditSubmissions_out.csv')"
     ],
     "language": "python",
     "metadata": {},
     "outputs": [],
     "prompt_number": 84
    },
    {
     "cell_type": "code",
     "collapsed": false,
     "input": [
      "images = d.groupby('#image_id').groups\n",
      "images = {k: d.subreddit.iloc[v] for k, v in images.items()}\n",
      "G = nx.Graph()\n",
      "for image in images.values():\n",
      "    edges = combinations_with_replacement(image, 2)\n",
      "    for edge in edges:\n",
      "        if G.has_edge(*edge):\n",
      "            G[edge[0]][edge[1]]['weight'] +=1\n",
      "        else:\n",
      "            G.add_edge(*edge, weight = 1) "
     ],
     "language": "python",
     "metadata": {},
     "outputs": [],
     "prompt_number": 85
    },
    {
     "cell_type": "code",
     "collapsed": false,
     "input": [
      "Gsub = G.subgraph([node[0] for node in nx.degree_centrality(G).items() if node[1] > .04])\n",
      "Gsub.nodes()"
     ],
     "language": "python",
     "metadata": {},
     "outputs": [
      {
       "metadata": {},
       "output_type": "pyout",
       "prompt_number": 115,
       "text": [
        "['mildlyinteresting',\n",
        " 'reactiongifs',\n",
        " 'fffffffuuuuuuuuuuuu',\n",
        " 'gifs',\n",
        " 'pokemon',\n",
        " 'funny',\n",
        " 'atheism',\n",
        " 'space',\n",
        " 'breakingbad',\n",
        " 'gif',\n",
        " 'woahdude',\n",
        " 'WTF',\n",
        " '4chan',\n",
        " 'wallpapers',\n",
        " 'gaming',\n",
        " 'reddit.com',\n",
        " 'aww',\n",
        " 'HIFW',\n",
        " 'trees',\n",
        " 'geek',\n",
        " 'LadyBoners',\n",
        " 'thewalkingdead',\n",
        " 'photoshopbattles',\n",
        " 'pics',\n",
        " 'PerfectTiming',\n",
        " 'movies',\n",
        " 'AdviceAnimals',\n",
        " 'LeagueOfMemes',\n",
        " 'GifSound']"
       ]
      }
     ],
     "prompt_number": 115
    },
    {
     "cell_type": "code",
     "collapsed": false,
     "input": [
      "json_graph.dump(G, open('graph.json', 'w'))\n",
      "json_graph.dump(Gsub, open('subgraph.json', 'w'))"
     ],
     "language": "python",
     "metadata": {},
     "outputs": [],
     "prompt_number": 116
    }
   ],
   "metadata": {}
  }
 ]
}